{
 "cells": [
  {
   "cell_type": "code",
   "execution_count": 1,
   "id": "aa219610",
   "metadata": {},
   "outputs": [],
   "source": [
    "! git config --global user.email \"yeonjkim99@gmail.com\"\n",
    "! git config --global user.name \"yeonjkim99\""
   ]
  },
  {
   "cell_type": "code",
   "execution_count": 2,
   "id": "e980f16c",
   "metadata": {},
   "outputs": [
    {
     "name": "stdout",
     "output_type": "stream",
     "text": [
      "Reinitialized existing Git repository in /aiffel/aiffel/socar_open_set/data/.git/\r\n"
     ]
    }
   ],
   "source": [
    "! git init"
   ]
  },
  {
   "cell_type": "code",
   "execution_count": 3,
   "id": "f1e7dd84",
   "metadata": {},
   "outputs": [
    {
     "name": "stdout",
     "output_type": "stream",
     "text": [
      "Data_Upload.ipynb  reject  test  train\r\n"
     ]
    }
   ],
   "source": [
    "! dir"
   ]
  },
  {
   "cell_type": "code",
   "execution_count": 4,
   "id": "36c63b3a",
   "metadata": {},
   "outputs": [],
   "source": [
    "! git add --all"
   ]
  },
  {
   "cell_type": "code",
   "execution_count": 5,
   "id": "5da17a17",
   "metadata": {},
   "outputs": [
    {
     "name": "stdout",
     "output_type": "stream",
     "text": [
      "[master 71c0ce2] Data upload\r\n",
      " 1 file changed, 92 insertions(+), 4 deletions(-)\r\n"
     ]
    }
   ],
   "source": [
    "! git commit -m \"Data upload\""
   ]
  },
  {
   "cell_type": "code",
   "execution_count": 6,
   "id": "6debcc9e",
   "metadata": {},
   "outputs": [
    {
     "name": "stdout",
     "output_type": "stream",
     "text": [
      "fatal: remote origin already exists.\r\n"
     ]
    }
   ],
   "source": [
    "! git remote add origin \"https://github.com/yeonjkim99/GD15.git\""
   ]
  },
  {
   "cell_type": "code",
   "execution_count": 7,
   "id": "9e02800f",
   "metadata": {},
   "outputs": [
    {
     "name": "stdout",
     "output_type": "stream",
     "text": [
      "origin\thttps://github.com/yeonjkim99/GD15.git (fetch)\r\n",
      "origin\thttps://github.com/yeonjkim99/GD15.git (push)\r\n",
      "orign\thttps://github.com/yeonjkim99/GD15.git (fetch)\r\n",
      "orign\thttps://github.com/yeonjkim99/GD15.git (push)\r\n"
     ]
    }
   ],
   "source": [
    "! git remote -v"
   ]
  },
  {
   "cell_type": "code",
   "execution_count": null,
   "id": "bf32c51a",
   "metadata": {},
   "outputs": [],
   "source": []
  }
 ],
 "metadata": {
  "kernelspec": {
   "display_name": "Python 3 (ipykernel)",
   "language": "python",
   "name": "python3"
  },
  "language_info": {
   "codemirror_mode": {
    "name": "ipython",
    "version": 3
   },
   "file_extension": ".py",
   "mimetype": "text/x-python",
   "name": "python",
   "nbconvert_exporter": "python",
   "pygments_lexer": "ipython3",
   "version": "3.9.7"
  }
 },
 "nbformat": 4,
 "nbformat_minor": 5
}
