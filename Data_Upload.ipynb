{
 "cells": [
  {
   "cell_type": "code",
   "execution_count": 1,
   "id": "9636a457",
   "metadata": {},
   "outputs": [],
   "source": [
    "! git config --global user.email \"yeonjkim99@gmail.com\"\n",
    "! git config --global user.name \"yeonjkim99\""
   ]
  },
  {
   "cell_type": "code",
   "execution_count": 2,
   "id": "aea2229d",
   "metadata": {},
   "outputs": [
    {
     "name": "stdout",
     "output_type": "stream",
     "text": [
      "Reinitialized existing Git repository in /aiffel/aiffel/socar_open_set/data/.git/\r\n"
     ]
    }
   ],
   "source": [
    "! git init"
   ]
  },
  {
   "cell_type": "code",
   "execution_count": 3,
   "id": "3732680e",
   "metadata": {},
   "outputs": [
    {
     "name": "stdout",
     "output_type": "stream",
     "text": [
      "Data_Upload.ipynb  reject  test  train\r\n"
     ]
    }
   ],
   "source": [
    "! dir"
   ]
  },
  {
   "cell_type": "code",
   "execution_count": 4,
   "id": "455b3fe3",
   "metadata": {},
   "outputs": [],
   "source": [
    "! git add --all"
   ]
  },
  {
   "cell_type": "code",
   "execution_count": 5,
   "id": "db28871b",
   "metadata": {},
   "outputs": [
    {
     "name": "stdout",
     "output_type": "stream",
     "text": [
      "[master ef130f0] Data upload\r\n",
      " 2 files changed, 154 insertions(+), 32 deletions(-)\r\n"
     ]
    }
   ],
   "source": [
    "! git commit -m \"Data upload\""
   ]
  },
  {
   "cell_type": "code",
   "execution_count": 6,
   "id": "a2a108a3",
   "metadata": {},
   "outputs": [
    {
     "name": "stdout",
     "output_type": "stream",
     "text": [
      "fatal: remote origin already exists.\r\n"
     ]
    }
   ],
   "source": [
    "! git remote add origin \"https://github.com/yeonjkim99/GD15.git\""
   ]
  },
  {
   "cell_type": "code",
   "execution_count": 10,
   "id": "44de084e",
   "metadata": {},
   "outputs": [
    {
     "name": "stdout",
     "output_type": "stream",
     "text": [
      "origin\thttps://github.com/yeonjkim99/GD15.git (fetch)\r\n",
      "origin\thttps://github.com/yeonjkim99/GD15.git (push)\r\n"
     ]
    }
   ],
   "source": [
    "! git remote -v"
   ]
  },
  {
   "cell_type": "code",
   "execution_count": 9,
   "id": "ff540406",
   "metadata": {},
   "outputs": [],
   "source": [
    "# ! git remote remove orign"
   ]
  },
  {
   "cell_type": "code",
   "execution_count": 11,
   "id": "8d244410",
   "metadata": {},
   "outputs": [
    {
     "name": "stdout",
     "output_type": "stream",
     "text": [
      "Username for 'https://github.com': ^C\n"
     ]
    }
   ],
   "source": [
    "! git push origin master"
   ]
  },
  {
   "cell_type": "code",
   "execution_count": null,
   "id": "9ee7834d",
   "metadata": {},
   "outputs": [],
   "source": []
  }
 ],
 "metadata": {
  "kernelspec": {
   "display_name": "Python 3 (ipykernel)",
   "language": "python",
   "name": "python3"
  },
  "language_info": {
   "codemirror_mode": {
    "name": "ipython",
    "version": 3
   },
   "file_extension": ".py",
   "mimetype": "text/x-python",
   "name": "python",
   "nbconvert_exporter": "python",
   "pygments_lexer": "ipython3",
   "version": "3.9.7"
  }
 },
 "nbformat": 4,
 "nbformat_minor": 5
}
