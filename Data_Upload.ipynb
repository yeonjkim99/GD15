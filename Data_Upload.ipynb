{
 "cells": [
  {
   "cell_type": "code",
   "execution_count": 1,
   "id": "c2b49fec",
   "metadata": {},
   "outputs": [],
   "source": [
    "! git config --global user.email \"yeonjkim99@gmail.com\"\n",
    "! git config --global user.name \"yeonjkim99\""
   ]
  },
  {
   "cell_type": "code",
   "execution_count": 2,
   "id": "d0876c63",
   "metadata": {},
   "outputs": [
    {
     "name": "stdout",
     "output_type": "stream",
     "text": [
      "Reinitialized existing Git repository in /aiffel/aiffel/socar_open_set/data/.git/\r\n"
     ]
    }
   ],
   "source": [
    "! git init"
   ]
  },
  {
   "cell_type": "code",
   "execution_count": 3,
   "id": "babf9abb",
   "metadata": {},
   "outputs": [
    {
     "name": "stdout",
     "output_type": "stream",
     "text": [
      "Data_Upload.ipynb  reject  test  train\r\n"
     ]
    }
   ],
   "source": [
    "! dir"
   ]
  },
  {
   "cell_type": "code",
   "execution_count": 4,
   "id": "92149425",
   "metadata": {},
   "outputs": [],
   "source": [
    "! git add --all"
   ]
  },
  {
   "cell_type": "code",
   "execution_count": 5,
   "id": "a1a697ab",
   "metadata": {},
   "outputs": [
    {
     "name": "stdout",
     "output_type": "stream",
     "text": [
      "[master 5f6cd3c] Data upload\r\n",
      " 2 files changed, 86 insertions(+)\r\n",
      " create mode 100644 .ipynb_checkpoints/Data_Upload-checkpoint.ipynb\r\n",
      " create mode 100644 Data_Upload.ipynb\r\n"
     ]
    }
   ],
   "source": [
    "! git commit -m \"Data upload\""
   ]
  },
  {
   "cell_type": "code",
   "execution_count": 6,
   "id": "e283a895",
   "metadata": {},
   "outputs": [
    {
     "name": "stdout",
     "output_type": "stream",
     "text": [
      "fatal: remote origin already exists.\r\n"
     ]
    }
   ],
   "source": [
    "! git remote add origin \"https://github.com/yeonjkim99/GD15.git\""
   ]
  },
  {
   "cell_type": "code",
   "execution_count": 7,
   "id": "5d9a23aa",
   "metadata": {},
   "outputs": [
    {
     "name": "stdout",
     "output_type": "stream",
     "text": [
      "origin\thttps://github.com/yeonjkim99/GD15.git (fetch)\r\n",
      "origin\thttps://github.com/yeonjkim99/GD15.git (push)\r\n",
      "orign\thttps://github.com/yeonjkim99/GD15.git (fetch)\r\n",
      "orign\thttps://github.com/yeonjkim99/GD15.git (push)\r\n"
     ]
    }
   ],
   "source": [
    "! git remote -v"
   ]
  },
  {
   "cell_type": "code",
   "execution_count": null,
   "id": "7bb39274",
   "metadata": {},
   "outputs": [
    {
     "name": "stdout",
     "output_type": "stream",
     "text": [
      "Username for 'https://github.com': "
     ]
    }
   ],
   "source": [
    "! git push origin master"
   ]
  },
  {
   "cell_type": "code",
   "execution_count": null,
   "id": "47619777",
   "metadata": {},
   "outputs": [],
   "source": []
  }
 ],
 "metadata": {
  "kernelspec": {
   "display_name": "Python 3 (ipykernel)",
   "language": "python",
   "name": "python3"
  },
  "language_info": {
   "codemirror_mode": {
    "name": "ipython",
    "version": 3
   },
   "file_extension": ".py",
   "mimetype": "text/x-python",
   "name": "python",
   "nbconvert_exporter": "python",
   "pygments_lexer": "ipython3",
   "version": "3.9.7"
  }
 },
 "nbformat": 4,
 "nbformat_minor": 5
}
